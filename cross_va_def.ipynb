{
 "cells": [
  {
   "cell_type": "markdown",
   "id": "175ed284-d1d3-493b-925a-9fd94d67e35b",
   "metadata": {},
   "source": [
    "### Cross validation"
   ]
  },
  {
   "cell_type": "markdown",
   "id": "173a2b0a-93f4-4481-940b-faac6a925755",
   "metadata": {},
   "source": [
    "### Problem:\n",
    "1. When we change test and train split in the model in dataset it makes the accuracy more or less which is inconsistent .\n",
    "2. like of also random_value change"
   ]
  },
  {
   "cell_type": "markdown",
   "id": "b6f5323c-2e16-497b-a869-ee6b5d4cdc57",
   "metadata": {},
   "source": [
    "#### So we have cross validation which will change the train and test data many times by k times ."
   ]
  },
  {
   "cell_type": "markdown",
   "id": "b9e3495f-f78a-4ad5-bd60-8ef64dafdbb5",
   "metadata": {},
   "source": [
    "#### Like k=3 and 900 data then it will be converted to 3 pieces "
   ]
  },
  {
   "cell_type": "markdown",
   "id": "e192be60-3cce-41af-b4a0-7280e3224e9a",
   "metadata": {},
   "source": [
    "#### So first piece will be test dataset and 2nd and 3rd becomes train  and measure accuracy"
   ]
  },
  {
   "cell_type": "markdown",
   "id": "880dbdf3-43ec-49e0-9a42-ead77a2063c4",
   "metadata": {},
   "source": [
    "#### Then we use 2nd piece as test and others as train and measure accuracy"
   ]
  },
  {
   "cell_type": "markdown",
   "id": "dbfcc96b-a686-421c-bfa2-7226c964ab0d",
   "metadata": {},
   "source": [
    "#### Same for 3rd then find accuracy and calculate average accuracy"
   ]
  },
  {
   "cell_type": "markdown",
   "id": "8609ecf2-ced1-4b61-9f82-1813290a6989",
   "metadata": {},
   "source": [
    "### "
   ]
  },
  {
   "cell_type": "markdown",
   "id": "9f5495c8-8afa-4cec-8d9a-4a7bbab6df00",
   "metadata": {},
   "source": [
    "### "
   ]
  },
  {
   "cell_type": "markdown",
   "id": "ffdf39c2-10ec-40f0-8b8a-97131e622f60",
   "metadata": {},
   "source": [
    "# Types"
   ]
  },
  {
   "cell_type": "markdown",
   "id": "cc2e21a9-b9ce-4acf-9399-925555854d1e",
   "metadata": {},
   "source": [
    "### 1.  Leave one out CV"
   ]
  },
  {
   "cell_type": "markdown",
   "id": "5d485af5-7e9a-4ad6-bfec-4761e6d54fce",
   "metadata": {},
   "source": [
    "#### Let data=1000 we take one data of 1000 of dataset as test and others for train"
   ]
  },
  {
   "cell_type": "markdown",
   "id": "c9cb463d-fbaa-4c47-90e2-cc425923ad11",
   "metadata": {},
   "source": [
    "#### Now we take 1 data 1st one to test and use 999 for training"
   ]
  },
  {
   "cell_type": "markdown",
   "id": "331d7c5b-fcdf-4a21-ab19-f048e2d05a41",
   "metadata": {},
   "source": [
    "#### Then We use 2nd one data for test and others 999 for training"
   ]
  },
  {
   "cell_type": "markdown",
   "id": "a8937d85-f2e8-40a1-9e70-33bbc53e3886",
   "metadata": {},
   "source": [
    "#### This is not used nowadays. So We can just know its there existed sometimes"
   ]
  },
  {
   "cell_type": "markdown",
   "id": "4b8dd90a-c3c5-4b89-a2da-992a65068175",
   "metadata": {},
   "source": [
    "### "
   ]
  },
  {
   "cell_type": "markdown",
   "id": "9bc4070e-8d45-49d7-8215-bf67e215823f",
   "metadata": {},
   "source": [
    "## "
   ]
  },
  {
   "cell_type": "markdown",
   "id": "31dbd552-30f8-4545-a78d-1cac8b180b18",
   "metadata": {},
   "source": [
    "## "
   ]
  },
  {
   "cell_type": "markdown",
   "id": "25589db4-dd51-4a53-acfb-d91587d1a336",
   "metadata": {},
   "source": [
    "### 2. Hold-out cross validation"
   ]
  },
  {
   "cell_type": "markdown",
   "id": "769f567c-8741-4e15-8dcb-a666d95ff927",
   "metadata": {},
   "source": [
    "#### Converting 1000 records \n",
    "From full training data (80 percent): 70 percents training , 30 percent validation set"
   ]
  },
  {
   "cell_type": "markdown",
   "id": "1043521e-afe7-47a5-b44b-c0e1309f4773",
   "metadata": {},
   "source": [
    "#### Let random_state be 42 one time and another time we do it with 22 it can change accuracy ,so we try with different training data"
   ]
  },
  {
   "cell_type": "markdown",
   "id": "5b3fd8bb-4563-44cf-8dfb-45048de7944f",
   "metadata": {},
   "source": [
    "#### Don't work with imbalance dataset"
   ]
  },
  {
   "cell_type": "markdown",
   "id": "bb2ec6b4-87e3-47b8-9e83-2c418c7f0982",
   "metadata": {},
   "source": [
    "### "
   ]
  },
  {
   "cell_type": "markdown",
   "id": "08da30ce-4e6d-44df-9d72-a623d98efa4e",
   "metadata": {},
   "source": [
    "## "
   ]
  },
  {
   "cell_type": "markdown",
   "id": "c02b0c94-638b-4c26-9f15-87825eff1e83",
   "metadata": {},
   "source": [
    "### 3. K fold cross validation"
   ]
  },
  {
   "cell_type": "markdown",
   "id": "d85a8330-f231-4e7f-9630-75353704998d",
   "metadata": {},
   "source": [
    "#### Let k=10 , dataset 1000 will be of 10 pieces equally each of 100 data"
   ]
  },
  {
   "cell_type": "markdown",
   "id": "ff2334ab-d2a5-4eab-a84e-24b2ac69b3dd",
   "metadata": {},
   "source": [
    "#### First 1st piece is validation data and remaining 9 pieces or 900 records are training data"
   ]
  },
  {
   "cell_type": "markdown",
   "id": "a2aa2991-cb37-4488-9372-5c6388484f22",
   "metadata": {},
   "source": [
    "#### Then second piece is validation data and first and other remaining 900 records are training data"
   ]
  },
  {
   "cell_type": "markdown",
   "id": "af4901b1-f3b9-408b-91e8-b39e9259c6b3",
   "metadata": {},
   "source": [
    "#### It iterate for 10 times or k times "
   ]
  },
  {
   "cell_type": "markdown",
   "id": "967e0a04-5951-47ff-8687-f578674494ff",
   "metadata": {},
   "source": [
    "#### Then average accuracy is calculated which is final accuracy"
   ]
  },
  {
   "cell_type": "markdown",
   "id": "50fc950b-b14b-4a95-aad0-87cd129c8904",
   "metadata": {},
   "source": [
    "## "
   ]
  },
  {
   "cell_type": "markdown",
   "id": "d9426368-3499-4b26-89c8-6d2ec8ffd975",
   "metadata": {},
   "source": [
    "#### This is very popular and effective"
   ]
  },
  {
   "cell_type": "markdown",
   "id": "463d59ea-f364-4278-8082-5074c53b5a29",
   "metadata": {},
   "source": [
    "#### Cons:"
   ]
  },
  {
   "cell_type": "markdown",
   "id": "4ba3b32e-a104-434c-a624-99faad8dd9ad",
   "metadata": {},
   "source": [
    "#### Don't work for imbalance dataset"
   ]
  },
  {
   "cell_type": "markdown",
   "id": "53149bf0-f827-4d95-aed2-23cd1e76a3c5",
   "metadata": {},
   "source": [
    "### "
   ]
  },
  {
   "cell_type": "markdown",
   "id": "8e3fa459-0010-42bb-8567-5f711e19c329",
   "metadata": {},
   "source": [
    "### "
   ]
  },
  {
   "cell_type": "markdown",
   "id": "de473337-9011-4e60-aeaa-7af785422e93",
   "metadata": {},
   "source": [
    "### 4.  Starified K fold cross validation"
   ]
  },
  {
   "cell_type": "markdown",
   "id": "149fa848-aaa2-4827-be7b-29d59e838aea",
   "metadata": {},
   "source": [
    "#### It is same as k cross validation only difference it make sure the all pieces have equal number of ouput"
   ]
  },
  {
   "cell_type": "markdown",
   "id": "3707d409-f22f-44e7-b50b-37a0a7dd0073",
   "metadata": {},
   "source": [
    "#### Let out of 1000 values : 900 are of value 0 and 100 are of value 1"
   ]
  },
  {
   "cell_type": "markdown",
   "id": "ba5a733a-a153-421c-a94c-00c23e77ba83",
   "metadata": {},
   "source": [
    "#### Let at first piece  of 100 data it takes 90 from value 0 output and 10 from value 1 in all the k times and ensure the balance does not break"
   ]
  },
  {
   "cell_type": "markdown",
   "id": "8f44bf16-4c7b-4af9-a71f-0261a2b52cdb",
   "metadata": {},
   "source": [
    "#### and on 2nd piece it does the same with different data"
   ]
  },
  {
   "cell_type": "markdown",
   "id": "0f957c33-ae8b-4bdf-8c8d-cc3d50337c20",
   "metadata": {},
   "source": [
    "#### "
   ]
  },
  {
   "cell_type": "markdown",
   "id": "f1582dd8-12bd-4c84-9077-028287d98198",
   "metadata": {},
   "source": [
    "#### It can also do 25 from value 1 and 75 of value 1 all time ,depends on the data imbalance"
   ]
  },
  {
   "cell_type": "markdown",
   "id": "6fda9b3c-e581-41b2-8657-218b9a7d7350",
   "metadata": {},
   "source": [
    "### "
   ]
  },
  {
   "cell_type": "markdown",
   "id": "3e798d9a-626c-440e-b5d3-74be3307336d",
   "metadata": {},
   "source": [
    "### "
   ]
  },
  {
   "cell_type": "markdown",
   "id": "27ff1e81-458f-4717-8b35-7cacb290e713",
   "metadata": {},
   "source": [
    "### "
   ]
  },
  {
   "cell_type": "markdown",
   "id": "df6e1c8f-1f10-4407-a3f9-fea93ae082d6",
   "metadata": {},
   "source": [
    "### 5. Time series cross validation"
   ]
  },
  {
   "cell_type": "markdown",
   "id": "a7742d89-f274-46a6-890b-e8206ab245fb",
   "metadata": {},
   "source": [
    "#### It is sequential split based on time"
   ]
  },
  {
   "cell_type": "markdown",
   "id": "16788c83-3bff-4643-af86-65b2593c1046",
   "metadata": {},
   "source": [
    "#### Like one the based on old data we use as training and new data as testing purpose or validation"
   ]
  },
  {
   "cell_type": "code",
   "execution_count": null,
   "id": "d9c140a5-cd84-47fa-a3e6-c75a1b151b19",
   "metadata": {},
   "outputs": [],
   "source": []
  }
 ],
 "metadata": {
  "kernelspec": {
   "display_name": "Python 3 (ipykernel)",
   "language": "python",
   "name": "python3"
  },
  "language_info": {
   "codemirror_mode": {
    "name": "ipython",
    "version": 3
   },
   "file_extension": ".py",
   "mimetype": "text/x-python",
   "name": "python",
   "nbconvert_exporter": "python",
   "pygments_lexer": "ipython3",
   "version": "3.9.19"
  }
 },
 "nbformat": 4,
 "nbformat_minor": 5
}
